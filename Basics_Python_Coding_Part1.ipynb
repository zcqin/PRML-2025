{
  "nbformat": 4,
  "nbformat_minor": 0,
  "metadata": {
    "colab": {
      "provenance": [],
      "authorship_tag": "ABX9TyM/xjC7nnQ6zd26H0Vxeecg",
      "include_colab_link": true
    },
    "kernelspec": {
      "name": "python3",
      "display_name": "Python 3"
    }
  },
  "cells": [
    {
      "cell_type": "markdown",
      "metadata": {
        "id": "view-in-github",
        "colab_type": "text"
      },
      "source": [
        "<a href=\"https://colab.research.google.com/github/zcqin/PRML-2025/blob/main/Basics_Python_Coding_Part1.ipynb\" target=\"_parent\"><img src=\"https://colab.research.google.com/assets/colab-badge.svg\" alt=\"Open In Colab\"/></a>"
      ]
    },
    {
      "cell_type": "markdown",
      "source": [
        "### **Basics of Python Coding - Part 1**\n",
        "\n",
        "**Zengchang Qin (PhD)**   \n",
        "Feb 02, 2024\n",
        "\n",
        "zengchang.qin@gmail.com\n",
        "\n",
        "\n"
      ],
      "metadata": {
        "id": "WYjsZ9hSYAEC"
      }
    },
    {
      "cell_type": "markdown",
      "source": [
        "1. Variable Assignment"
      ],
      "metadata": {
        "id": "PjqRsGC3YRds"
      }
    },
    {
      "cell_type": "code",
      "source": [
        "x = 1\n",
        "y = 2\n",
        "print(x+y)\n",
        "print(x*y)\n",
        "print(x/y)"
      ],
      "metadata": {
        "colab": {
          "base_uri": "https://localhost:8080/"
        },
        "id": "_-0wyR3kYJBV",
        "outputId": "78d368a2-faa8-4110-da32-6fb46e405904"
      },
      "execution_count": null,
      "outputs": [
        {
          "output_type": "stream",
          "name": "stdout",
          "text": [
            "3\n",
            "2\n",
            "0.5\n"
          ]
        }
      ]
    },
    {
      "cell_type": "markdown",
      "source": [
        "2. String"
      ],
      "metadata": {
        "id": "j2lN7Zc6Yl4u"
      }
    },
    {
      "cell_type": "code",
      "source": [
        "x = \"Hello World!\"\n",
        "print(x)\n",
        "print(x[6:12])\n",
        "type(x)"
      ],
      "metadata": {
        "colab": {
          "base_uri": "https://localhost:8080/"
        },
        "id": "7caPkanEYrIn",
        "outputId": "e93cd351-08a7-46a0-9ed8-ec66466a3391"
      },
      "execution_count": null,
      "outputs": [
        {
          "output_type": "stream",
          "name": "stdout",
          "text": [
            "Hello World!\n",
            "World!\n"
          ]
        },
        {
          "output_type": "execute_result",
          "data": {
            "text/plain": [
              "str"
            ]
          },
          "metadata": {},
          "execution_count": 2
        }
      ]
    },
    {
      "cell_type": "code",
      "source": [
        "name = \"Beihang\"\n",
        "country = 'China'\n",
        "\n",
        "\n",
        "print(\"%s is a great school in %s!\" %(name, country))\n",
        "print(\"Good student in %s!\" %(name + \" \" + country))\n",
        "\n",
        "# print(f ) is a new way to represent strings, e.g.:\n",
        "\n",
        "newfun = \"print(f)\"\n",
        "coding = \"python\"\n",
        "print(f\"{newfun} is a great function in {coding}.\")\n"
      ],
      "metadata": {
        "colab": {
          "base_uri": "https://localhost:8080/"
        },
        "id": "LXfcyidlZUpC",
        "outputId": "debb1a66-7209-4ff4-c165-7d34f9b16496"
      },
      "execution_count": null,
      "outputs": [
        {
          "output_type": "stream",
          "name": "stdout",
          "text": [
            "Beihang is a great school in China!\n",
            "Good student in Beihang China!\n",
            "print(f) is a great function in python.\n"
          ]
        }
      ]
    },
    {
      "cell_type": "markdown",
      "source": [
        "3. List"
      ],
      "metadata": {
        "id": "sZ69qvPDari_"
      }
    },
    {
      "cell_type": "code",
      "source": [
        "list_1 = [1, 2, 3, 'Mu', 'Tou', 'Ren']\n",
        "list_1.append('!')\n",
        "\n",
        "print(list_1[3])\n",
        "list_1"
      ],
      "metadata": {
        "colab": {
          "base_uri": "https://localhost:8080/"
        },
        "id": "hrj6tTr0auHM",
        "outputId": "4befdf90-7552-45c3-d2fc-e8ca1eefa6e4"
      },
      "execution_count": null,
      "outputs": [
        {
          "output_type": "stream",
          "name": "stdout",
          "text": [
            "Mu\n"
          ]
        },
        {
          "output_type": "execute_result",
          "data": {
            "text/plain": [
              "[1, 2, 3, 'Mu', 'Tou', 'Ren', '!']"
            ]
          },
          "metadata": {},
          "execution_count": 19
        }
      ]
    },
    {
      "cell_type": "markdown",
      "source": [
        "4. Set"
      ],
      "metadata": {
        "id": "-7p_fSYhbgXH"
      }
    },
    {
      "cell_type": "code",
      "source": [
        "set_1 = set([1, 2, 2, 3, 2, 1, 1, 2, 2])\n",
        "set_2 = set('banana')\n",
        "print(set_1)\n",
        "print(set_2)\n",
        "\n",
        "print(set_1.union(set_2))\n",
        "\n"
      ],
      "metadata": {
        "colab": {
          "base_uri": "https://localhost:8080/"
        },
        "id": "NnrLOViXbiG4",
        "outputId": "2d352733-a97a-4699-a9bb-61557e0d976f"
      },
      "execution_count": null,
      "outputs": [
        {
          "output_type": "stream",
          "name": "stdout",
          "text": [
            "{1, 2, 3}\n",
            "{'a', 'n', 'b'}\n",
            "{1, 2, 3, 'a', 'b', 'n'}\n"
          ]
        }
      ]
    },
    {
      "cell_type": "markdown",
      "source": [
        "5. Dictionary"
      ],
      "metadata": {
        "id": "ZezgkEsBcAOG"
      }
    },
    {
      "cell_type": "code",
      "source": [
        "dict_1 = {'apple':3, 'oragne':4, 'pear':2}\n",
        "dict_2 = {1: 'apple', 2:'oragne', 3: 'pear'}\n",
        "\n",
        "dict_1.keys()\n",
        "k = dict_2.keys()\n",
        "v = dict_2.values()\n",
        "\n",
        "print(k, v)\n"
      ],
      "metadata": {
        "colab": {
          "base_uri": "https://localhost:8080/"
        },
        "id": "MXjorkWjcCMT",
        "outputId": "368e2e76-eb6b-41dc-8e71-98d416b363ce"
      },
      "execution_count": null,
      "outputs": [
        {
          "output_type": "stream",
          "name": "stdout",
          "text": [
            "dict_keys([1, 2, 3]) dict_values(['apple', 'oragne', 'pear'])\n"
          ]
        }
      ]
    },
    {
      "cell_type": "markdown",
      "source": [
        "6. Numpy"
      ],
      "metadata": {
        "id": "YO3Vq82FdBDK"
      }
    },
    {
      "cell_type": "code",
      "source": [
        "import numpy as np\n",
        "x = np.array([1, 4, 3])\n",
        "y = np.array([[1, 4, 3], [9, 2, 7]])\n",
        "z = np.arange(1, 2000, 1)\n",
        "a = np.arange(1, 7)\n",
        "\n",
        "#print(x)\n",
        "#print(y)\n",
        "\n",
        "\n",
        "s = 1\n",
        "v = np.array([1, 2])\n",
        "m = np.array([[1, 2],\n",
        "        [3, 4]])\n",
        "n = np.array([[5, 6],\n",
        "        [7, 8]])\n",
        "t= np.array([m, n])\n",
        "\n",
        "print(s)\n",
        "print(v)\n",
        "print(m)\n",
        "print(t)\n",
        "\n",
        "\n",
        "print(y.T)\n",
        "print(y.T @ y)\n",
        "print(y @ y.T)\n",
        "\n",
        "print(z)\n",
        "print(a)\n",
        "\n",
        "l = np.ones((5, 3))\n",
        "e = np.empty(3)\n",
        "print(l)\n",
        "print(e)\n",
        "\n"
      ],
      "metadata": {
        "colab": {
          "base_uri": "https://localhost:8080/"
        },
        "id": "_a4OdLrZdIzy",
        "outputId": "429b9c5b-503d-481e-a544-40bfb2c90933"
      },
      "execution_count": null,
      "outputs": [
        {
          "output_type": "stream",
          "name": "stdout",
          "text": [
            "1\n",
            "[1 2]\n",
            "[[1 2]\n",
            " [3 4]]\n",
            "[[[1 2]\n",
            "  [3 4]]\n",
            "\n",
            " [[5 6]\n",
            "  [7 8]]]\n",
            "[[1 9]\n",
            " [4 2]\n",
            " [3 7]]\n",
            "[[82 22 66]\n",
            " [22 20 26]\n",
            " [66 26 58]]\n",
            "[[ 26  38]\n",
            " [ 38 134]]\n",
            "[   1    2    3 ... 1997 1998 1999]\n",
            "[1 2 3 4 5 6]\n",
            "[[1. 1. 1.]\n",
            " [1. 1. 1.]\n",
            " [1. 1. 1.]\n",
            " [1. 1. 1.]\n",
            " [1. 1. 1.]]\n",
            "[4.9e-324 2.0e-323 1.5e-323]\n"
          ]
        }
      ]
    },
    {
      "cell_type": "markdown",
      "source": [
        "7. Function"
      ],
      "metadata": {
        "id": "IG8wKqR2wPV_"
      }
    },
    {
      "cell_type": "code",
      "source": [
        "def sum_fun(a, b, c):\n",
        "\n",
        "    # this is the summation\n",
        "    out1 = np.sin(a) + np.cos(b)\n",
        "    out2 = np.sin(b) + np.cos(c)\n",
        "    out = out1+out2\n",
        "    print_hello()\n",
        "    return out\n",
        "\n",
        "def print_hello():\n",
        "    print('Hello World!')"
      ],
      "metadata": {
        "id": "pw4ggPucwRlX"
      },
      "execution_count": null,
      "outputs": []
    },
    {
      "cell_type": "code",
      "source": [
        "print(sum_fun(1,3,5))\n"
      ],
      "metadata": {
        "colab": {
          "base_uri": "https://localhost:8080/"
        },
        "id": "a-X_mXxwwXkF",
        "outputId": "8f3c83d0-960a-43d2-cf05-a1a5a748c0d4"
      },
      "execution_count": null,
      "outputs": [
        {
          "output_type": "stream",
          "name": "stdout",
          "text": [
            "Hello World!\n",
            "0.2762606817305445\n"
          ]
        }
      ]
    },
    {
      "cell_type": "markdown",
      "source": [
        "8. If-Else\n",
        "\n",
        "*Branching statement*"
      ],
      "metadata": {
        "id": "yvw57oyM_tSn"
      }
    },
    {
      "cell_type": "code",
      "source": [
        "def my_nested_branching(x,y,alpha, beta):\n",
        "    # a very small decision tree by two attributes and the\n",
        "    # space is divided into 4 sub-spaces marked by different leaf numbers.\n",
        "\n",
        "    if x > alpha:\n",
        "        if y < beta:\n",
        "            out = \"leaf 1\"\n",
        "        else:\n",
        "            out = \"leaf 2\"\n",
        "    else:\n",
        "        if y > beta:\n",
        "            out = \"leaf 3\"\n",
        "        else:\n",
        "            out = \"leaf 4\"\n",
        "    return out"
      ],
      "metadata": {
        "id": "ISo5Wc-e_w9d"
      },
      "execution_count": null,
      "outputs": []
    },
    {
      "cell_type": "code",
      "source": [
        "print(my_nested_branching(2,4,3,3) )\n",
        "print(my_nested_branching(4,4,3,3) )\n",
        "print(my_nested_branching(2,2,3,3) )\n",
        "print(my_nested_branching(4,2,3,3) )"
      ],
      "metadata": {
        "colab": {
          "base_uri": "https://localhost:8080/"
        },
        "id": "XH2LAFP-Ad70",
        "outputId": "c8e5195a-7b98-43aa-b531-61d2b87c68d2"
      },
      "execution_count": null,
      "outputs": [
        {
          "output_type": "stream",
          "name": "stdout",
          "text": [
            "leaf 3\n",
            "leaf 2\n",
            "leaf 4\n",
            "leaf 1\n"
          ]
        }
      ]
    },
    {
      "cell_type": "markdown",
      "source": [
        "9. Ternary Operators\n",
        "\n",
        "*Most programming languages have ternary operators, which usually known as conditional expressions. It provides a way that we can use one-line code to evaluate the first expression if the condition is true, otherwise it evaluates the second expression. Python has its way to implement the ternary operator, which can be constructed as below:*"
      ],
      "metadata": {
        "id": "dnmPdCZbCnMq"
      }
    },
    {
      "cell_type": "code",
      "source": [
        "is_student = True\n",
        "is_male = True\n",
        "is_female = False\n",
        "person = 'student' if is_student else 'not student'\n",
        "\n",
        "height = 175 if is_female else 160\n",
        "height2 = 175 if is_male else 160\n",
        "\n",
        "print(person)\n",
        "print(f\"student height in meter is: {height/100}\")"
      ],
      "metadata": {
        "colab": {
          "base_uri": "https://localhost:8080/"
        },
        "id": "jyqh_2S8IzYu",
        "outputId": "accab046-ad65-4052-b083-0be306e3197c"
      },
      "execution_count": null,
      "outputs": [
        {
          "output_type": "stream",
          "name": "stdout",
          "text": [
            "student\n",
            "student height in meter is: 1.6\n"
          ]
        }
      ]
    }
  ]
}