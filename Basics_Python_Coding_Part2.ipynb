{
  "cells": [
    {
      "cell_type": "markdown",
      "metadata": {
        "id": "view-in-github",
        "colab_type": "text"
      },
      "source": [
        "<a href=\"https://colab.research.google.com/github/zcqin/PRML-2025/blob/main/Basics_Python_Coding_Part2.ipynb\" target=\"_parent\"><img src=\"https://colab.research.google.com/assets/colab-badge.svg\" alt=\"Open In Colab\"/></a>"
      ]
    },
    {
      "cell_type": "markdown",
      "metadata": {
        "id": "OzvZXz9gKXsP"
      },
      "source": [
        "### **Basics of Python Coding - Part 2**\n",
        "**Zengchang Qin (PhD)**\n",
        "\n",
        "Feb 02, 2024\n",
        "\n",
        "zengchang.qin@gmail.com"
      ]
    },
    {
      "cell_type": "code",
      "source": [],
      "metadata": {
        "id": "7jJbabVezspl"
      },
      "execution_count": null,
      "outputs": []
    },
    {
      "cell_type": "markdown",
      "metadata": {
        "id": "pntN8SB9OwiX"
      },
      "source": [
        "[10] Iteration - Loops"
      ]
    },
    {
      "cell_type": "code",
      "execution_count": null,
      "metadata": {
        "colab": {
          "base_uri": "https://localhost:8080/"
        },
        "id": "qi9NUWfznX04",
        "outputId": "746fbd41-52b4-4ca6-c6e4-b3d47d6788d4"
      },
      "outputs": [
        {
          "output_type": "stream",
          "name": "stdout",
          "text": [
            "1 1\n",
            "2 3\n",
            "3 6\n",
            "4 10\n",
            "a\n",
            "p\n",
            "p\n",
            "l\n",
            "e\n",
            "Fibonacci Series are:\n",
            "1 :  1\n",
            "2 :  1\n",
            "3 :  2\n",
            "4 :  3\n",
            "5 :  5\n",
            "6 :  8\n",
            "7 :  13\n",
            "8 :  21\n",
            "9 :  34\n"
          ]
        }
      ],
      "source": [
        "import numpy as np\n",
        "n = 0\n",
        "\n",
        "for i in range(1, 5):\n",
        "    n = n + i\n",
        "    print(i,n)\n",
        "\n",
        "for c in \"apple\":\n",
        "    print(c)\n",
        "\n",
        "\n",
        "\n",
        "# Simple Fibonacci series generation\n",
        "a = 1\n",
        "b = 1\n",
        "print(\"Fibonacci Series are:\")\n",
        "print(1, \": \",a)\n",
        "print(2, \": \",b)\n",
        "\n",
        "for i in range(3, 10):\n",
        "    c = a + b\n",
        "    print(i, \": \", c)\n",
        "    a = b\n",
        "    b = c\n",
        "\n"
      ]
    },
    {
      "cell_type": "code",
      "execution_count": null,
      "metadata": {
        "colab": {
          "base_uri": "https://localhost:8080/"
        },
        "id": "se3aT518qcZV",
        "outputId": "3224224a-5d62-4ef4-b0d2-9f632a44e356"
      },
      "outputs": [
        {
          "output_type": "stream",
          "name": "stdout",
          "text": [
            "value of One is 1\n",
            "value of Two is 2\n",
            "value of Three is 3\n"
          ]
        }
      ],
      "source": [
        "dict_a = {\"One\":1, \"Two\":2, \"Three\":3}\n",
        "\n",
        "for key in dict_a.keys():\n",
        "    print(f\"value of {key} is {dict_a[key]}\" )"
      ]
    },
    {
      "cell_type": "code",
      "execution_count": null,
      "metadata": {
        "colab": {
          "base_uri": "https://localhost:8080/"
        },
        "id": "AlDQq6itrBow",
        "outputId": "4cfed042-ded2-4e65-e152-cccfbb9d198f"
      },
      "outputs": [
        {
          "output_type": "stream",
          "name": "stdout",
          "text": [
            "21\n"
          ]
        }
      ],
      "source": [
        "# sump up elements in a given matrix\n",
        "\n",
        "x = np.array([[1, 2, 3], [4, 5, 6]])\n",
        "n, m = x.shape\n",
        "s = 0\n",
        "for i in range(n):\n",
        "    for j in range(m):\n",
        "        s += x[i, j]\n",
        "\n",
        "print(s)"
      ]
    },
    {
      "cell_type": "code",
      "execution_count": null,
      "metadata": {
        "colab": {
          "base_uri": "https://localhost:8080/"
        },
        "id": "_9z7HP1jrhOc",
        "outputId": "c9efbc2f-3f4f-47d9-b378-55ceaf0b808f"
      },
      "outputs": [
        {
          "output_type": "stream",
          "name": "stdout",
          "text": [
            "Fibonacci Series are:\n",
            "1 :  1\n",
            "2 :  1\n",
            "3 :  2\n",
            "4 :  3\n",
            "5 :  5\n",
            "6 :  8\n",
            "7 :  13\n",
            "8 :  21\n",
            "9 :  34\n",
            "10 :  55\n"
          ]
        }
      ],
      "source": [
        "print(\"Fibonacci Series are:\")\n",
        "a = 1\n",
        "b = 1\n",
        "i = 3\n",
        "\n",
        "print(1, \": \",a)\n",
        "print(2, \": \",b)\n",
        "\n",
        "while i <= 10:\n",
        "    c = a + b\n",
        "    print(i, \": \", c)\n",
        "    a = b\n",
        "    b = c\n",
        "    i +=1"
      ]
    },
    {
      "cell_type": "code",
      "execution_count": null,
      "metadata": {
        "colab": {
          "base_uri": "https://localhost:8080/"
        },
        "id": "hPsreJgAsK_p",
        "outputId": "d5fd52b2-2329-483d-dbb6-76fe13d849c2"
      },
      "outputs": [
        {
          "output_type": "stream",
          "name": "stdout",
          "text": [
            "[0, 1, 4, 9, 16]\n"
          ]
        }
      ],
      "source": [
        "x = range(5)\n",
        "y = []\n",
        "\n",
        "for i in x:\n",
        "    y.append(i**2)\n",
        "\n",
        "print(y)\n"
      ]
    },
    {
      "cell_type": "code",
      "execution_count": null,
      "metadata": {
        "colab": {
          "base_uri": "https://localhost:8080/"
        },
        "id": "6JcMxjgwxIRn",
        "outputId": "afe8ebeb-bf39-4460-c63f-f2facb7d1d20"
      },
      "outputs": [
        {
          "output_type": "stream",
          "name": "stdout",
          "text": [
            "1000\n"
          ]
        }
      ],
      "source": [
        "y = 0\n",
        "for i in range(1000):\n",
        "    for j in range(1000):\n",
        "        if i == j:\n",
        "            y += 1\n",
        "\n",
        "print(y)"
      ]
    },
    {
      "cell_type": "markdown",
      "metadata": {
        "id": "IrFYj4J_xdnM"
      },
      "source": [
        "11. Recursion"
      ]
    },
    {
      "cell_type": "code",
      "execution_count": null,
      "metadata": {
        "colab": {
          "base_uri": "https://localhost:8080/"
        },
        "id": "OkS6ZtT1xgQA",
        "outputId": "c12bd5f9-f468-46be-f9e4-d008283ab64a"
      },
      "outputs": [
        {
          "output_type": "execute_result",
          "data": {
            "text/plain": [
              "720"
            ]
          },
          "metadata": {},
          "execution_count": 8
        }
      ],
      "source": [
        "def factorial(n):\n",
        "    if n == 1: # Base cases!\n",
        "        return 1\n",
        "    else: # Recursive step\n",
        "        return n * factorial(n - 1) # Recursive call\n",
        "\n",
        "factorial(6)"
      ]
    },
    {
      "cell_type": "code",
      "execution_count": null,
      "metadata": {
        "colab": {
          "base_uri": "https://localhost:8080/"
        },
        "id": "j39q8TiWxzI8",
        "outputId": "4d52aa0e-4edb-407a-b327-f42c0ae8ce0a"
      },
      "outputs": [
        {
          "output_type": "execute_result",
          "data": {
            "text/plain": [
              "55"
            ]
          },
          "metadata": {},
          "execution_count": 9
        }
      ],
      "source": [
        "def fibonacci(n):\n",
        "    if n == 1: # first base case\n",
        "        return 1\n",
        "    elif n == 2: # second base case\n",
        "        return 1\n",
        "    else: # Recursive step\n",
        "        return fibonacci(n-1) + fibonacci(n-2) # Recursive call\n",
        "\n",
        "fibonacci(10)"
      ]
    },
    {
      "cell_type": "code",
      "execution_count": null,
      "metadata": {
        "colab": {
          "base_uri": "https://localhost:8080/"
        },
        "id": "aLkvkAVsyrR9",
        "outputId": "caddd5f4-3695-4ac6-d0c7-bdf2e0a51a0a"
      },
      "outputs": [
        {
          "output_type": "stream",
          "name": "stdout",
          "text": [
            "1\n",
            "1\n",
            "2\n",
            "3\n",
            "5\n",
            "8\n",
            "13\n",
            "21\n",
            "34\n",
            "55\n",
            "89\n",
            "144\n",
            "233\n",
            "377\n",
            "610\n",
            "987\n",
            "1597\n",
            "2584\n",
            "4181\n",
            "6765\n"
          ]
        }
      ],
      "source": [
        "def iter_fib(n):\n",
        "    fib = np.ones(n)\n",
        "\n",
        "    for i in range(2, n):\n",
        "        fib[i] = fib[i - 1] + fib[i-2]\n",
        "    return fib\n",
        "\n",
        "# save the series into an array\n",
        "fib_series = iter_fib(20)\n",
        "\n",
        "for i in range(np.size(fib_series)):\n",
        "    print(np.int64(fib_series[i]))\n",
        "\n"
      ]
    },
    {
      "cell_type": "code",
      "execution_count": null,
      "metadata": {
        "colab": {
          "base_uri": "https://localhost:8080/"
        },
        "id": "fwoSZXa5Cot1",
        "outputId": "38cde0c8-269f-42e3-d77a-6d09ba02dcb6"
      },
      "outputs": [
        {
          "output_type": "stream",
          "name": "stdout",
          "text": [
            "1.0\n",
            "1.0\n",
            "1.0\n",
            "2.0\n",
            "1.5\n",
            "1.6666666666666667\n",
            "1.6\n",
            "1.625\n",
            "1.6153846153846154\n",
            "1.619047619047619\n",
            "1.6176470588235294\n",
            "1.6181818181818182\n",
            "1.6179775280898876\n",
            "1.6180555555555556\n",
            "1.6180257510729614\n",
            "1.6180371352785146\n",
            "1.618032786885246\n",
            "1.618034447821682\n",
            "1.6180338134001253\n",
            "1.618034055727554\n"
          ]
        }
      ],
      "source": [
        "def golden_ratio(n):\n",
        "    fib = np.ones(n)\n",
        "    golden = np.ones(n)\n",
        "\n",
        "    for i in range(2, n):\n",
        "        fib[i] = fib[i - 1] + fib[i-2]\n",
        "        golden[i] = fib[i - 1]/fib[i - 2]\n",
        "    return golden\n",
        "\n",
        "\n",
        "golden_series = golden_ratio(20)\n",
        "\n",
        "for i in range(np.size(golden_series)):\n",
        "    print(golden_series[i])\n"
      ]
    },
    {
      "cell_type": "markdown",
      "metadata": {
        "id": "eRtXuaqM1g1e"
      },
      "source": [
        "12. **Towers of Hanoi**\n",
        "\n",
        " *The Towers of Hanoi problem consists of three vertical rods, or towers, and N disks of different sizes, each with a hole in the center so that the rod can slide through it. The disks are originally stacked on one of the towers in order of descending size (i.e., the largest disc is on the bottom). The goal of the problem is to move all the disks to a different rod while complying with the following three rules:*\n",
        "\n",
        "\n",
        "*   Only one disk can be moved at a time.\n",
        "*   Only the disk at the top of a stack may be moved.\n",
        "*   A disk may not be placed on top of a smaller disk.\n",
        "\n",
        "The following figure shows the steps of the solution to the Tower of Hanoi problem with three disks.\n",
        "\n"
      ]
    },
    {
      "cell_type": "code",
      "execution_count": null,
      "metadata": {
        "colab": {
          "base_uri": "https://localhost:8080/"
        },
        "id": "rqd_YjYT2XxN",
        "outputId": "61e201a7-c1e5-4ee8-d26a-bb63f0f008f1"
      },
      "outputs": [
        {
          "name": "stdout",
          "output_type": "stream",
          "text": [
            "Move disk 1 from tower Start  to tower Goal  \n",
            "Move disk 2 from tower Start  to tower Middle\n",
            "Move disk 1 from tower Goal   to tower Middle\n",
            "Move disk 3 from tower Start  to tower Goal  \n",
            "Move disk 1 from tower Middle to tower Start \n",
            "Move disk 2 from tower Middle to tower Goal  \n",
            "Move disk 1 from tower Start  to tower Goal  \n"
          ]
        }
      ],
      "source": [
        "def hanoi_towers(N, Start, Goal, Middle):\n",
        "\n",
        "    if N != 0:\n",
        "        # recursive call that moves N-1 stack from starting tower\n",
        "        # to the middle tower\n",
        "\n",
        "        hanoi_towers(N-1, Start, Middle, Goal)\n",
        "        # The movement of the bottom disk from starting tower to final tower\n",
        "        print(f\"Move disk {N} from tower {Start} to tower {Goal}\")\n",
        "\n",
        "        # recursive call that moves N-1 stack from middle tower\n",
        "        # to the goal tower\n",
        "        hanoi_towers(N-1, Middle, Goal, Start)\n",
        "\n",
        "\n",
        "hanoi_towers(3, \"Start \", \"Goal  \", \"Middle\")"
      ]
    }
  ],
  "metadata": {
    "colab": {
      "provenance": [],
      "authorship_tag": "ABX9TyMdwazc1o2yBOJiWFEa++Ka",
      "include_colab_link": true
    },
    "kernelspec": {
      "display_name": "Python 3",
      "name": "python3"
    },
    "language_info": {
      "name": "python"
    }
  },
  "nbformat": 4,
  "nbformat_minor": 0
}